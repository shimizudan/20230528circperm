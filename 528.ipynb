{
 "cells": [
  {
   "attachments": {},
   "cell_type": "markdown",
   "metadata": {},
   "source": [
    "## 重複円順列\n",
    "\n",
    "0~9の10個の数字から重複を許して$m$個の数字を選び円形に並べる。何通りの並べ方ができるか？"
   ]
  },
  {
   "cell_type": "code",
   "execution_count": 15,
   "metadata": {},
   "outputs": [
    {
     "data": {
      "text/plain": [
       "circperm3 (generic function with 1 method)"
      ]
     },
     "metadata": {},
     "output_type": "display_data"
    }
   ],
   "source": [
    "using Combinatorics # multinomial(a),permutations(seq, k),factorial(n),partitions(m)\n",
    "using Primes    #totient(i)　オイラーのトーシェント関数\n",
    "using DataStructures #counter(k)　配列kの要素の個数を数える\n",
    "\n",
    "function circperm(seq, k) # 円順列の全てのリストを与える関数\n",
    "    p = union(permutations(seq, k))\n",
    "    n = length(p)\n",
    "    d = []\n",
    "    for i = 1:n-1, j = i+1:n, t = 1:k-1\n",
    "        if p[i] == circshift(p[j], t)\n",
    "            push!(d, j)\n",
    "        end\n",
    "    end\n",
    "    deleteat!(p, sort!(union!(d)))\n",
    "end\n",
    "\n",
    "function divisors(n)    #約数のリストを求める関数\n",
    "    X=[]\n",
    "    for i=1:n\n",
    "        if n % i==0\n",
    "            X =push!(X,i)\n",
    "        end\n",
    "    end\n",
    "    X\n",
    " end\n",
    " \n",
    " function enkan(a) #円順列のリストaの総数を求める関数\n",
    "    l=gcd(a)    #リスト（配列）aの最大公約数を求める。\n",
    "    N=sum(a)    #aの総和\n",
    "    A=divisors(l)\n",
    "    p=0\n",
    "    for k in A\n",
    "        q=map(x -> x÷k,a) \n",
    "        p +=totient(k)*multinomial(q...)\n",
    "    end\n",
    "    p÷N\n",
    " end\n",
    " \n",
    " \n",
    " function iro(k,n) #色の数nとリストkの色の塗り方の総数を求める関数\n",
    "     p = factorial(n)÷factorial(n-length(k))\n",
    "     c = counter(k)\n",
    "     for i in values(c)\n",
    "         p = p÷factorial(i)\n",
    "     end\n",
    "     p\n",
    " end\n",
    " \n",
    " \n",
    " function circperm3(m,n) #m個の円順列のリストの色の塗り方の総数を求める関数\n",
    "     k = collect(partitions(m))\n",
    "     p = 0\n",
    "     for i in k\n",
    "         p += enkan(i)*iro(i,n)\n",
    "     end\n",
    "     p\n",
    " end\n"
   ]
  },
  {
   "attachments": {},
   "cell_type": "markdown",
   "metadata": {},
   "source": [
    "- **$m=4$のとき，4の分割数を考える。**\n",
    "- (4) 文字の選び方は10通り，そのそれぞれに対して並べ方は1通り。$10\\times 1=10$\n",
    "- (1-3) 文字の選び方は${}_{10}\\text{P}_{2}=90$通り，そのそれぞれに対して並べ方は1通り。$90\\times 1=90$\n",
    "- (2-2) 文字の選び方は${}_{10}\\text{C}_{2}=45$通り，そのそれぞれに対して並べ方は2通り。$45\\times 2=90$\n",
    "- (1-1-2) 文字の選び方は$\\dfrac{10\\times9\\times 8}{2}=360$通り，そのそれぞれに対して並べ方は$\\dfrac{4!}{2!\\times 4}=3$通り。$360\\times 3=1080$\n",
    "- (1-1-1-1) 文字の選び方は${}_{10}\\text{C}_{4}=210$通り，そのそれぞれに対して並べ方は$3!=6通り。$210\\times 6=1260$\n",
    "\n",
    "$$\\therefore 10+90+90+1080+1260=2530通り$$"
   ]
  },
  {
   "cell_type": "code",
   "execution_count": 17,
   "metadata": {},
   "outputs": [
    {
     "data": {
      "text/plain": [
       "2530-element Vector{Vector{Int64}}:\n",
       " [0, 1, 2, 3]\n",
       " [0, 1, 2, 4]\n",
       " [0, 1, 2, 5]\n",
       " [0, 1, 2, 6]\n",
       " [0, 1, 2, 7]\n",
       " [0, 1, 2, 8]\n",
       " [0, 1, 2, 9]\n",
       " [0, 1, 2, 0]\n",
       " [0, 1, 2, 1]\n",
       " [0, 1, 2, 2]\n",
       " ⋮\n",
       " [7, 9, 9, 7]\n",
       " [7, 9, 9, 9]\n",
       " [7, 7, 7, 7]\n",
       " [8, 9, 8, 9]\n",
       " [8, 9, 8, 8]\n",
       " [8, 9, 9, 8]\n",
       " [8, 9, 9, 9]\n",
       " [8, 8, 8, 8]\n",
       " [9, 9, 9, 9]"
      ]
     },
     "metadata": {},
     "output_type": "display_data"
    }
   ],
   "source": [
    "k = [0,1,2,3,4,5,6,7,8,9,\n",
    "    0,1,2,3,4,5,6,7,8,9,\n",
    "    0,1,2,3,4,5,6,7,8,9,\n",
    "    0,1,2,3,4,5,6,7,8,9]\n",
    "circperm(k,4)"
   ]
  },
  {
   "cell_type": "code",
   "execution_count": 18,
   "metadata": {},
   "outputs": [
    {
     "data": {
      "text/plain": [
       "2530"
      ]
     },
     "metadata": {},
     "output_type": "display_data"
    }
   ],
   "source": [
    "circperm3(4,10)"
   ]
  },
  {
   "attachments": {},
   "cell_type": "markdown",
   "metadata": {},
   "source": [
    "- **$m=5$のとき，5の分割数を考える。**\n",
    "- (5) 文字の選び方は10通り，そのそれぞれに対して並べ方は1通り。$10\\times 1=10$\n",
    "- (1-4) 文字の選び方は${}_{10}\\text{P}_{2}=90$通り，そのそれぞれに対して並べ方は$\\dfrac{{}_{5}\\text{C}_{1}}{5}=1$通り。$90\\times 1=90$\n",
    "- (2-3) 文字の選び方は${}_{10}\\text{P}_{2}=90$通り，そのそれぞれに対して並べ方は$\\dfrac{{}_{5}\\text{C}_{2}}{5}=2$通り。$90\\times 2=180$\n",
    "- (1-1-3) 文字の選び方は$\\dfrac{10\\times9\\times 8}{2}=360$通り，そのそれぞれに対して並べ方は$\\dfrac{5!}{3!\\times 5}=4$通り。$360\\times 4=1440$\n",
    "- (1-2-2) 文字の選び方は$\\dfrac{10\\times9\\times 8}{2}=360$通り，そのそれぞれに対して並べ方は$\\dfrac{5!}{2!2!\\times 5}=6$通り。$360\\times 6=2160$\n",
    "- (1-1-1-2) 文字の選び方は$\\dfrac{10\\times9\\times 8\\times 7}{3!}=840$通り，そのそれぞれに対して並べ方は$\\dfrac{5!}{2!\\times 5}=12$通り。$840\\times 12=10080$\n",
    "- (1-1-1-1-1) 文字の選び方は$\\dfrac{10\\times9\\times 8\\times 7\\times 6}{5!}=252$通り，そのそれぞれに対して並べ方は$\\dfrac{5!}{5}=24$通り。$252\\times 24=6048$\n",
    "\n",
    "$$\\therefore 10+90+180+1440+2160+10080+6048=20008通り$$\n",
    "\n",
    "\n",
    "**分割数の最大公約数が5のときは1で割る。最大公約数が１のときは5で割る。**\n",
    "\n",
    "$$\\dfrac{10}{1}+\\dfrac{10^5-10}{5}=10+\\dfrac{99990}5=10+19998=20008$$"
   ]
  },
  {
   "cell_type": "code",
   "execution_count": 19,
   "metadata": {},
   "outputs": [
    {
     "data": {
      "text/plain": [
       "7-element Vector{Vector{Int64}}:\n",
       " [5]\n",
       " [4, 1]\n",
       " [3, 2]\n",
       " [3, 1, 1]\n",
       " [2, 2, 1]\n",
       " [2, 1, 1, 1]\n",
       " [1, 1, 1, 1, 1]"
      ]
     },
     "metadata": {},
     "output_type": "display_data"
    }
   ],
   "source": [
    "collect(partitions(5))"
   ]
  },
  {
   "cell_type": "code",
   "execution_count": 20,
   "metadata": {},
   "outputs": [
    {
     "data": {
      "text/plain": [
       "20008"
      ]
     },
     "metadata": {},
     "output_type": "display_data"
    }
   ],
   "source": [
    "circperm3(5,10)"
   ]
  },
  {
   "attachments": {},
   "cell_type": "markdown",
   "metadata": {},
   "source": [
    "- **$m=6$のとき，6の分割数を考える。**\n",
    "- (6)文字の選び方は$10$通り，そのそれぞれに対して並べ方は1通り。$10\\times 1=10$\n",
    "- (1-5) 文字の選び方は${}_{10}\\text{P}_{2}=90$通り，そのそれぞれに対して並べ方は1通り。$90\\times 1=90$\n",
    "- (2-4) 文字の選び方は${}_{10}\\text{P}_{2}=90$通り，そのそれぞれに対して並べ方は`enkan([2,4])`$=3$通り。$90\\times 3=270$\n",
    "- (3-3) 文字の選び方は${}_{10}\\text{C}_{2}=45$通り，そのそれぞれに対して並べ方は`enkan([3,3])`$=4$通り。$45\\times 4=180$\n",
    "- (1-1-4) 文字の選び方は$\\dfrac{10\\times9\\times 8}{2!}=360$通り，そのそれぞれに対して並べ方は`enkan([1,1,4])`$=5$通り。$360\\times 5=1800$\n",
    "- (1-2-3) 文字の選び方は$10\\times9\\times 8=720$通り，そのそれぞれに対して並べ方は`enkan([1,2,3])`$=10$通り。$720\\times 10=7200$\n",
    "- (2-2-2) 文字の選び方は$\\dfrac{10\\times9\\times 8}{3!}=120$通り，そのそれぞれに対して並べ方は`enkan([2,2,2])`$=16$通り。$120\\times 16=1920$\n",
    "- (1-1-1-3) 文字の選び方は$\\dfrac{10\\times9\\times 8\\times 7}{3!}=840$通り，そのそれぞれに対して並べ方は`enkan([1,1,1,3])`$=20$通り。$840\\times 20=16800$\n",
    "- (1-1-2-2) 文字の選び方は$\\dfrac{10\\times9\\times 8\\times 7}{2!2!}=1260$通り，そのそれぞれに対して並べ方は`enkan([1,1,2,2])`$=30$通り。$1260\\times 30=37800$\n",
    "- (1-1-1-1-2) 文字の選び方は$\\dfrac{10\\times9\\times 8\\times 7\\times 6}{4!}=1260$通り，そのそれぞれに対して並べ方は`enkan([1,1,1,1,2])`$=60$通り。$1260\\times 60=75600$\n",
    "- (1-1-1-1-1-1) 文字の選び方は$\\dfrac{10\\times9\\times 8\\times 7\\times 6\\times 5}{6!}=210$通り，そのそれぞれに対して並べ方は`enkan([1,1,1,1,1,1])`$=120$通り。$210\\times 120=25200$\n",
    "\n",
    "$$\\therefore 10+90+270+180+1800+7200+1920+16800+37800+75600+25200=166870通り$$"
   ]
  },
  {
   "cell_type": "code",
   "execution_count": 21,
   "metadata": {},
   "outputs": [
    {
     "data": {
      "text/plain": [
       "11-element Vector{Vector{Int64}}:\n",
       " [6]\n",
       " [5, 1]\n",
       " [4, 2]\n",
       " [4, 1, 1]\n",
       " [3, 3]\n",
       " [3, 2, 1]\n",
       " [3, 1, 1, 1]\n",
       " [2, 2, 2]\n",
       " [2, 2, 1, 1]\n",
       " [2, 1, 1, 1, 1]\n",
       " [1, 1, 1, 1, 1, 1]"
      ]
     },
     "metadata": {},
     "output_type": "display_data"
    }
   ],
   "source": [
    "collect(partitions(6))"
   ]
  },
  {
   "cell_type": "code",
   "execution_count": 22,
   "metadata": {},
   "outputs": [
    {
     "data": {
      "text/plain": [
       "166870"
      ]
     },
     "metadata": {},
     "output_type": "display_data"
    }
   ],
   "source": [
    "circperm3(6,10)"
   ]
  },
  {
   "cell_type": "code",
   "execution_count": 23,
   "metadata": {},
   "outputs": [
    {
     "name": "stdout",
     "output_type": "stream",
     "text": [
      "0〜9の10個の数字から重複を許して1個選び円形に並べる方法は10通りです。\n",
      "0〜9の10個の数字から重複を許して2個選び円形に並べる方法は55通りです。\n",
      "0〜9の10個の数字から重複を許して3個選び円形に並べる方法は340通りです。\n",
      "0〜9の10個の数字から重複を許して4個選び円形に並べる方法は2530通りです。\n",
      "0〜9の10個の数字から重複を許して5個選び円形に並べる方法は20008通りです。\n",
      "0〜9の10個の数字から重複を許して6個選び円形に並べる方法は166870通りです。\n",
      "0〜9の10個の数字から重複を許して7個選び円形に並べる方法は1428580通りです。\n",
      "0〜9の10個の数字から重複を許して8個選び円形に並べる方法は12501280通りです。\n",
      "0〜9の10個の数字から重複を許して9個選び円形に並べる方法は111111340通りです。\n",
      "0〜9の10個の数字から重複を許して10個選び円形に並べる方法は1000010044通りです。\n"
     ]
    }
   ],
   "source": [
    "for i=1:10\n",
    "    println(\"0〜9の10個の数字から重複を許して$(i)個選び円形に並べる方法は\",circperm3(i,10),\"通りです。\")\n",
    "end"
   ]
  },
  {
   "cell_type": "code",
   "execution_count": null,
   "metadata": {},
   "outputs": [],
   "source": []
  }
 ],
 "metadata": {
  "kernelspec": {
   "display_name": "Julia 1.9.0",
   "language": "julia",
   "name": "julia-1.9"
  },
  "language_info": {
   "file_extension": ".jl",
   "mimetype": "application/julia",
   "name": "julia",
   "version": "1.9.0"
  },
  "orig_nbformat": 4
 },
 "nbformat": 4,
 "nbformat_minor": 2
}
